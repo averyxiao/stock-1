{
 "cells": [
  {
   "cell_type": "code",
   "execution_count": 1,
   "metadata": {},
   "outputs": [],
   "source": [
    "import pandas as pd"
   ]
  },
  {
   "cell_type": "code",
   "execution_count": null,
   "metadata": {},
   "outputs": [],
   "source": []
  },
  {
   "cell_type": "code",
   "execution_count": null,
   "metadata": {},
   "outputs": [],
   "source": [
    "\n",
    "def bias(df,N):\n",
    "    df[f'bias_{N}'] = (df['close'] - df['close'].rolling(N, min_periods=1).mean())/ df['close'].rolling(N, min_periods=1).mean()*100\n",
    "    df[f'bias_{N}'] = round(df[f'bias_{N}'], 2)\n"
   ]
  },
  {
   "cell_type": "code",
   "execution_count": null,
   "metadata": {},
   "outputs": [],
   "source": []
  }
 ],
 "metadata": {
  "interpreter": {
   "hash": "9aa71a1095d6a6dd446f2b486146a60837bd82849c2fc6b4bf786ffe99bd2ba1"
  },
  "kernelspec": {
   "display_name": "Python 3.9.5 64-bit ('3.9': conda)",
   "language": "python",
   "name": "python3"
  },
  "language_info": {
   "codemirror_mode": {
    "name": "ipython",
    "version": 3
   },
   "file_extension": ".py",
   "mimetype": "text/x-python",
   "name": "python",
   "nbconvert_exporter": "python",
   "pygments_lexer": "ipython3",
   "version": "3.9.5"
  },
  "orig_nbformat": 4
 },
 "nbformat": 4,
 "nbformat_minor": 2
}
